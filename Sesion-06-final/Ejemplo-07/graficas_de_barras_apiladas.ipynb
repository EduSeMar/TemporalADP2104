{
 "cells": [
  {
   "cell_type": "markdown",
   "metadata": {},
   "source": [
    "## Ejemplo 7: Gráficas de barras apiladas\n",
    "\n",
    "### 1. Objetivos:\n",
    "    - Aprender a generar e interpretar gráficas de barras apiladas\n",
    " \n",
    "---\n",
    "    \n",
    "### 2. Desarrollo:"
   ]
  },
  {
   "cell_type": "code",
   "execution_count": 1,
   "metadata": {},
   "outputs": [],
   "source": [
    "#%matplotlib inline\n",
    "import pandas as pd\n",
    "import seaborn as sns\n",
    "import matplotlib.pyplot as plt"
   ]
  },
  {
   "cell_type": "code",
   "execution_count": 2,
   "metadata": {},
   "outputs": [
    {
     "data": {
      "text/html": [
       "<div>\n",
       "<style scoped>\n",
       "    .dataframe tbody tr th:only-of-type {\n",
       "        vertical-align: middle;\n",
       "    }\n",
       "\n",
       "    .dataframe tbody tr th {\n",
       "        vertical-align: top;\n",
       "    }\n",
       "\n",
       "    .dataframe thead th {\n",
       "        text-align: right;\n",
       "    }\n",
       "</style>\n",
       "<table border=\"1\" class=\"dataframe\">\n",
       "  <thead>\n",
       "    <tr style=\"text-align: right;\">\n",
       "      <th></th>\n",
       "      <th>name</th>\n",
       "      <th>sex</th>\n",
       "      <th>age</th>\n",
       "      <th>height</th>\n",
       "      <th>weight</th>\n",
       "      <th>team</th>\n",
       "      <th>noc</th>\n",
       "      <th>games</th>\n",
       "      <th>year</th>\n",
       "      <th>season</th>\n",
       "      <th>city</th>\n",
       "      <th>sport</th>\n",
       "      <th>event</th>\n",
       "      <th>medal</th>\n",
       "    </tr>\n",
       "    <tr>\n",
       "      <th>athlete_id</th>\n",
       "      <th></th>\n",
       "      <th></th>\n",
       "      <th></th>\n",
       "      <th></th>\n",
       "      <th></th>\n",
       "      <th></th>\n",
       "      <th></th>\n",
       "      <th></th>\n",
       "      <th></th>\n",
       "      <th></th>\n",
       "      <th></th>\n",
       "      <th></th>\n",
       "      <th></th>\n",
       "      <th></th>\n",
       "    </tr>\n",
       "  </thead>\n",
       "  <tbody>\n",
       "    <tr>\n",
       "      <th>120585</th>\n",
       "      <td>Nadiya Volodymyrivna Tkachenko (-Sapronova)</td>\n",
       "      <td>F</td>\n",
       "      <td>23</td>\n",
       "      <td>165</td>\n",
       "      <td>74.0</td>\n",
       "      <td>Soviet Union</td>\n",
       "      <td>URS</td>\n",
       "      <td>1972 Summer</td>\n",
       "      <td>1972</td>\n",
       "      <td>Summer</td>\n",
       "      <td>Munich</td>\n",
       "      <td>Athletics</td>\n",
       "      <td>Athletics Women's Pentathlon</td>\n",
       "      <td>None</td>\n",
       "    </tr>\n",
       "    <tr>\n",
       "      <th>124576</th>\n",
       "      <td>Cornelia Maria \"Cocki\" van Engelsdorp Gastelaa...</td>\n",
       "      <td>F</td>\n",
       "      <td>22</td>\n",
       "      <td>170</td>\n",
       "      <td>67.0</td>\n",
       "      <td>Netherlands</td>\n",
       "      <td>NED</td>\n",
       "      <td>1960 Summer</td>\n",
       "      <td>1960</td>\n",
       "      <td>Summer</td>\n",
       "      <td>Roma</td>\n",
       "      <td>Swimming</td>\n",
       "      <td>Swimming Women's 4 x 100 metres Freestyle Relay</td>\n",
       "      <td>None</td>\n",
       "    </tr>\n",
       "    <tr>\n",
       "      <th>88962</th>\n",
       "      <td>Gunhild Margareta \"Gun\" Olsson (-Eriksson)</td>\n",
       "      <td>F</td>\n",
       "      <td>26</td>\n",
       "      <td>166</td>\n",
       "      <td>57.0</td>\n",
       "      <td>Sweden</td>\n",
       "      <td>SWE</td>\n",
       "      <td>1972 Summer</td>\n",
       "      <td>1972</td>\n",
       "      <td>Summer</td>\n",
       "      <td>Munich</td>\n",
       "      <td>Athletics</td>\n",
       "      <td>Athletics Women's 4 x 100 metres Relay</td>\n",
       "      <td>None</td>\n",
       "    </tr>\n",
       "    <tr>\n",
       "      <th>82254</th>\n",
       "      <td>Jason Newth Morris</td>\n",
       "      <td>M</td>\n",
       "      <td>25</td>\n",
       "      <td>178</td>\n",
       "      <td>80.0</td>\n",
       "      <td>United States</td>\n",
       "      <td>USA</td>\n",
       "      <td>1992 Summer</td>\n",
       "      <td>1992</td>\n",
       "      <td>Summer</td>\n",
       "      <td>Barcelona</td>\n",
       "      <td>Judo</td>\n",
       "      <td>Judo Men's Half-Middleweight</td>\n",
       "      <td>Silver</td>\n",
       "    </tr>\n",
       "    <tr>\n",
       "      <th>106442</th>\n",
       "      <td>Carlos A. Scanavino Villavicenio</td>\n",
       "      <td>M</td>\n",
       "      <td>24</td>\n",
       "      <td>187</td>\n",
       "      <td>80.0</td>\n",
       "      <td>Uruguay</td>\n",
       "      <td>URU</td>\n",
       "      <td>1988 Summer</td>\n",
       "      <td>1988</td>\n",
       "      <td>Summer</td>\n",
       "      <td>Seoul</td>\n",
       "      <td>Swimming</td>\n",
       "      <td>Swimming Men's 200 metres Freestyle</td>\n",
       "      <td>None</td>\n",
       "    </tr>\n",
       "  </tbody>\n",
       "</table>\n",
       "</div>"
      ],
      "text/plain": [
       "                                                         name sex  age  \\\n",
       "athlete_id                                                               \n",
       "120585            Nadiya Volodymyrivna Tkachenko (-Sapronova)   F   23   \n",
       "124576      Cornelia Maria \"Cocki\" van Engelsdorp Gastelaa...   F   22   \n",
       "88962              Gunhild Margareta \"Gun\" Olsson (-Eriksson)   F   26   \n",
       "82254                                      Jason Newth Morris   M   25   \n",
       "106442                       Carlos A. Scanavino Villavicenio   M   24   \n",
       "\n",
       "            height  weight           team  noc        games  year  season  \\\n",
       "athlete_id                                                                  \n",
       "120585         165    74.0   Soviet Union  URS  1972 Summer  1972  Summer   \n",
       "124576         170    67.0    Netherlands  NED  1960 Summer  1960  Summer   \n",
       "88962          166    57.0         Sweden  SWE  1972 Summer  1972  Summer   \n",
       "82254          178    80.0  United States  USA  1992 Summer  1992  Summer   \n",
       "106442         187    80.0        Uruguay  URU  1988 Summer  1988  Summer   \n",
       "\n",
       "                 city      sport  \\\n",
       "athlete_id                         \n",
       "120585         Munich  Athletics   \n",
       "124576           Roma   Swimming   \n",
       "88962          Munich  Athletics   \n",
       "82254       Barcelona       Judo   \n",
       "106442          Seoul   Swimming   \n",
       "\n",
       "                                                      event   medal  \n",
       "athlete_id                                                           \n",
       "120585                         Athletics Women's Pentathlon    None  \n",
       "124576      Swimming Women's 4 x 100 metres Freestyle Relay    None  \n",
       "88962                Athletics Women's 4 x 100 metres Relay    None  \n",
       "82254                          Judo Men's Half-Middleweight  Silver  \n",
       "106442                  Swimming Men's 200 metres Freestyle    None  "
      ]
     },
     "execution_count": 2,
     "metadata": {},
     "output_type": "execute_result"
    }
   ],
   "source": [
    "df = pd.read_csv('../../Datasets/athlete_olympic_events-cleann.csv', index_col=0)\n",
    "\n",
    "df.head()"
   ]
  },
  {
   "cell_type": "markdown",
   "metadata": {},
   "source": [
    "Por ejemplo, digamos que queremos graficar la frecuencia de los 4 deportes que analizamos anteriormente. Queremos ver cuántas veces aparece cada uno en nuestro dataset para compararlos."
   ]
  },
  {
   "cell_type": "code",
   "execution_count": 3,
   "metadata": {},
   "outputs": [],
   "source": [
    "df_grouped = df.groupby('name')[['sex', 'sport']].max()"
   ]
  },
  {
   "cell_type": "code",
   "execution_count": 4,
   "metadata": {},
   "outputs": [],
   "source": [
    "# Sólo nos quedamos 4 deportes: 'Basketball', 'Volleyball', 'Football', 'Baseball'\n",
    "\n",
    "df_ball = df_grouped[df_grouped['sport'].isin(['Basketball', 'Volleyball', 'Football', 'Baseball'])]"
   ]
  },
  {
   "cell_type": "code",
   "execution_count": 5,
   "metadata": {},
   "outputs": [
    {
     "data": {
      "text/html": [
       "<div>\n",
       "<style scoped>\n",
       "    .dataframe tbody tr th:only-of-type {\n",
       "        vertical-align: middle;\n",
       "    }\n",
       "\n",
       "    .dataframe tbody tr th {\n",
       "        vertical-align: top;\n",
       "    }\n",
       "\n",
       "    .dataframe thead th {\n",
       "        text-align: right;\n",
       "    }\n",
       "</style>\n",
       "<table border=\"1\" class=\"dataframe\">\n",
       "  <thead>\n",
       "    <tr style=\"text-align: right;\">\n",
       "      <th></th>\n",
       "      <th>sex</th>\n",
       "      <th>sport</th>\n",
       "    </tr>\n",
       "    <tr>\n",
       "      <th>name</th>\n",
       "      <th></th>\n",
       "      <th></th>\n",
       "    </tr>\n",
       "  </thead>\n",
       "  <tbody>\n",
       "    <tr>\n",
       "      <th>A Dijiang</th>\n",
       "      <td>M</td>\n",
       "      <td>Basketball</td>\n",
       "    </tr>\n",
       "    <tr>\n",
       "      <th>Aafke Hament</th>\n",
       "      <td>F</td>\n",
       "      <td>Volleyball</td>\n",
       "    </tr>\n",
       "    <tr>\n",
       "      <th>Aarn Galindo Rubio</th>\n",
       "      <td>M</td>\n",
       "      <td>Football</td>\n",
       "    </tr>\n",
       "    <tr>\n",
       "      <th>Aaron Duane Olson</th>\n",
       "      <td>M</td>\n",
       "      <td>Basketball</td>\n",
       "    </tr>\n",
       "    <tr>\n",
       "      <th>Aaron James Scott</th>\n",
       "      <td>M</td>\n",
       "      <td>Football</td>\n",
       "    </tr>\n",
       "  </tbody>\n",
       "</table>\n",
       "</div>"
      ],
      "text/plain": [
       "                   sex       sport\n",
       "name                              \n",
       "A Dijiang            M  Basketball\n",
       "Aafke Hament         F  Volleyball\n",
       "Aarn Galindo Rubio   M    Football\n",
       "Aaron Duane Olson    M  Basketball\n",
       "Aaron James Scott    M    Football"
      ]
     },
     "execution_count": 5,
     "metadata": {},
     "output_type": "execute_result"
    }
   ],
   "source": [
    "df_ball.head()"
   ]
  },
  {
   "cell_type": "code",
   "execution_count": 6,
   "metadata": {},
   "outputs": [
    {
     "data": {
      "text/plain": [
       "Football      3355\n",
       "Basketball    2257\n",
       "Volleyball    2036\n",
       "Baseball       590\n",
       "Name: sport, dtype: int64"
      ]
     },
     "execution_count": 6,
     "metadata": {},
     "output_type": "execute_result"
    }
   ],
   "source": [
    "#Obtengamos la frecuencia de cada deporte\n",
    "\n",
    "value_counts_all = df_ball['sport'].value_counts()\n",
    "\n",
    "value_counts_all"
   ]
  },
  {
   "cell_type": "code",
   "execution_count": 7,
   "metadata": {},
   "outputs": [
    {
     "data": {
      "image/png": "[encoded data removed]",
      "text/plain": [
       "<Figure size 432x288 with 1 Axes>"
      ]
     },
     "metadata": {
      "needs_background": "light"
     },
     "output_type": "display_data"
    }
   ],
   "source": [
    "#gráfica de barras normalita... La hacíamos con barplot\n",
    "\n",
    "fig = plt.figure()\n",
    "ax = fig.add_subplot()\n",
    "\n",
    "sns.barplot(x= value_counts_all.index, y= value_counts_all, ax=ax, palette='Blues');\n",
    "\n",
    "ax.set_ylabel('count')\n",
    "ax.set_title('Conteo de frecuencia de 4 deportes Olímpicos', fontsize=13, pad=10);"
   ]
  },
  {
   "cell_type": "markdown",
   "metadata": {},
   "source": [
    "¡Listo! Pero qué pasa si ahora además queremos segmentar nuestros conteos utilizando la variable 'sex'. Esto nos servirá para saber cómo es que cada género contribuye al conteo total de atletas."
   ]
  },
  {
   "cell_type": "code",
   "execution_count": 11,
   "metadata": {},
   "outputs": [
    {
     "data": {
      "text/html": [
       "<div>\n",
       "<style scoped>\n",
       "    .dataframe tbody tr th:only-of-type {\n",
       "        vertical-align: middle;\n",
       "    }\n",
       "\n",
       "    .dataframe tbody tr th {\n",
       "        vertical-align: top;\n",
       "    }\n",
       "\n",
       "    .dataframe thead th {\n",
       "        text-align: right;\n",
       "    }\n",
       "</style>\n",
       "<table border=\"1\" class=\"dataframe\">\n",
       "  <thead>\n",
       "    <tr style=\"text-align: right;\">\n",
       "      <th></th>\n",
       "      <th>sex</th>\n",
       "      <th>sport</th>\n",
       "      <th>count</th>\n",
       "    </tr>\n",
       "    <tr>\n",
       "      <th>name</th>\n",
       "      <th></th>\n",
       "      <th></th>\n",
       "      <th></th>\n",
       "    </tr>\n",
       "  </thead>\n",
       "  <tbody>\n",
       "    <tr>\n",
       "      <th>A Dijiang</th>\n",
       "      <td>M</td>\n",
       "      <td>Basketball</td>\n",
       "      <td>1</td>\n",
       "    </tr>\n",
       "    <tr>\n",
       "      <th>A. J. Tyronne Benildus \"Benny\" Fernando</th>\n",
       "      <td>M</td>\n",
       "      <td>Athletics</td>\n",
       "      <td>1</td>\n",
       "    </tr>\n",
       "    <tr>\n",
       "      <th>A. Joshua \"Josh\" West</th>\n",
       "      <td>M</td>\n",
       "      <td>Rowing</td>\n",
       "      <td>1</td>\n",
       "    </tr>\n",
       "    <tr>\n",
       "      <th>A. W. Nancy \"Nan\" Rae</th>\n",
       "      <td>F</td>\n",
       "      <td>Swimming</td>\n",
       "      <td>1</td>\n",
       "    </tr>\n",
       "    <tr>\n",
       "      <th>Aadolf Fredrik Svanstrm</th>\n",
       "      <td>M</td>\n",
       "      <td>Athletics</td>\n",
       "      <td>1</td>\n",
       "    </tr>\n",
       "  </tbody>\n",
       "</table>\n",
       "</div>"
      ],
      "text/plain": [
       "                                        sex       sport  count\n",
       "name                                                          \n",
       "A Dijiang                                 M  Basketball      1\n",
       "A. J. Tyronne Benildus \"Benny\" Fernando   M   Athletics      1\n",
       "A. Joshua \"Josh\" West                     M      Rowing      1\n",
       "A. W. Nancy \"Nan\" Rae                     F    Swimming      1\n",
       "Aadolf Fredrik Svanstrm                   M   Athletics      1"
      ]
     },
     "execution_count": 11,
     "metadata": {},
     "output_type": "execute_result"
    }
   ],
   "source": [
    "# Definamos una variable auxiliar de contro\n",
    "\n",
    "df_grouped['count'] = 1\n",
    "\n",
    "df_grouped.head()"
   ]
  },
  {
   "cell_type": "code",
   "execution_count": 20,
   "metadata": {},
   "outputs": [],
   "source": [
    "# Agrupamos con respecto al deporte y nos quedamos sólo con 'Basketball', 'Volleyball', 'Football', 'Baseball'\n",
    "\n",
    "df_ball_with_count = df_grouped[df_grouped['sport'].isin(['Basketball', 'Volleyball', 'Football', 'Baseball'])]"
   ]
  },
  {
   "cell_type": "code",
   "execution_count": 21,
   "metadata": {},
   "outputs": [
    {
     "data": {
      "text/html": [
       "<div>\n",
       "<style scoped>\n",
       "    .dataframe tbody tr th:only-of-type {\n",
       "        vertical-align: middle;\n",
       "    }\n",
       "\n",
       "    .dataframe tbody tr th {\n",
       "        vertical-align: top;\n",
       "    }\n",
       "\n",
       "    .dataframe thead th {\n",
       "        text-align: right;\n",
       "    }\n",
       "</style>\n",
       "<table border=\"1\" class=\"dataframe\">\n",
       "  <thead>\n",
       "    <tr style=\"text-align: right;\">\n",
       "      <th></th>\n",
       "      <th>sex</th>\n",
       "      <th>sport</th>\n",
       "      <th>count</th>\n",
       "    </tr>\n",
       "    <tr>\n",
       "      <th>name</th>\n",
       "      <th></th>\n",
       "      <th></th>\n",
       "      <th></th>\n",
       "    </tr>\n",
       "  </thead>\n",
       "  <tbody>\n",
       "    <tr>\n",
       "      <th>A Dijiang</th>\n",
       "      <td>M</td>\n",
       "      <td>Basketball</td>\n",
       "      <td>1</td>\n",
       "    </tr>\n",
       "    <tr>\n",
       "      <th>Aafke Hament</th>\n",
       "      <td>F</td>\n",
       "      <td>Volleyball</td>\n",
       "      <td>1</td>\n",
       "    </tr>\n",
       "    <tr>\n",
       "      <th>Aarn Galindo Rubio</th>\n",
       "      <td>M</td>\n",
       "      <td>Football</td>\n",
       "      <td>1</td>\n",
       "    </tr>\n",
       "    <tr>\n",
       "      <th>Aaron Duane Olson</th>\n",
       "      <td>M</td>\n",
       "      <td>Basketball</td>\n",
       "      <td>1</td>\n",
       "    </tr>\n",
       "    <tr>\n",
       "      <th>Aaron James Scott</th>\n",
       "      <td>M</td>\n",
       "      <td>Football</td>\n",
       "      <td>1</td>\n",
       "    </tr>\n",
       "    <tr>\n",
       "      <th>...</th>\n",
       "      <td>...</td>\n",
       "      <td>...</td>\n",
       "      <td>...</td>\n",
       "    </tr>\n",
       "    <tr>\n",
       "      <th>va Biszku</th>\n",
       "      <td>F</td>\n",
       "      <td>Volleyball</td>\n",
       "      <td>1</td>\n",
       "    </tr>\n",
       "    <tr>\n",
       "      <th>va Gulys (-Beloberk)</th>\n",
       "      <td>F</td>\n",
       "      <td>Basketball</td>\n",
       "      <td>1</td>\n",
       "    </tr>\n",
       "    <tr>\n",
       "      <th>va Sebk-Szalay</th>\n",
       "      <td>F</td>\n",
       "      <td>Volleyball</td>\n",
       "      <td>1</td>\n",
       "    </tr>\n",
       "    <tr>\n",
       "      <th>ver Maximiliano David Banega</th>\n",
       "      <td>M</td>\n",
       "      <td>Football</td>\n",
       "      <td>1</td>\n",
       "    </tr>\n",
       "    <tr>\n",
       "      <th>zge Krdar emberci</th>\n",
       "      <td>F</td>\n",
       "      <td>Volleyball</td>\n",
       "      <td>1</td>\n",
       "    </tr>\n",
       "  </tbody>\n",
       "</table>\n",
       "<p>8238 rows × 3 columns</p>\n",
       "</div>"
      ],
      "text/plain": [
       "                             sex       sport  count\n",
       "name                                               \n",
       "A Dijiang                      M  Basketball      1\n",
       "Aafke Hament                   F  Volleyball      1\n",
       "Aarn Galindo Rubio             M    Football      1\n",
       "Aaron Duane Olson              M  Basketball      1\n",
       "Aaron James Scott              M    Football      1\n",
       "...                           ..         ...    ...\n",
       "va Biszku                      F  Volleyball      1\n",
       "va Gulys (-Beloberk)           F  Basketball      1\n",
       "va Sebk-Szalay                 F  Volleyball      1\n",
       "ver Maximiliano David Banega   M    Football      1\n",
       "zge Krdar emberci              F  Volleyball      1\n",
       "\n",
       "[8238 rows x 3 columns]"
      ]
     },
     "execution_count": 21,
     "metadata": {},
     "output_type": "execute_result"
    }
   ],
   "source": [
    "df_ball_with_count"
   ]
  },
  {
   "cell_type": "code",
   "execution_count": 22,
   "metadata": {},
   "outputs": [
    {
     "data": {
      "text/plain": [
       "sport       sex\n",
       "Baseball    M       590\n",
       "Basketball  F       750\n",
       "            M      1507\n",
       "Football    F       614\n",
       "            M      2741\n",
       "Volleyball  F       936\n",
       "            M      1100\n",
       "Name: count, dtype: int64"
      ]
     },
     "execution_count": 22,
     "metadata": {},
     "output_type": "execute_result"
    }
   ],
   "source": [
    "#Obtengamos un conteo por género y disciplina\n",
    "\n",
    "value_counts = df_ball_with_count.groupby(['sport', 'sex'])['count'].sum()\n",
    "\n",
    "value_counts"
   ]
  },
  {
   "cell_type": "code",
   "execution_count": 23,
   "metadata": {},
   "outputs": [
    {
     "data": {
      "text/html": [
       "<div>\n",
       "<style scoped>\n",
       "    .dataframe tbody tr th:only-of-type {\n",
       "        vertical-align: middle;\n",
       "    }\n",
       "\n",
       "    .dataframe tbody tr th {\n",
       "        vertical-align: top;\n",
       "    }\n",
       "\n",
       "    .dataframe thead th {\n",
       "        text-align: right;\n",
       "    }\n",
       "</style>\n",
       "<table border=\"1\" class=\"dataframe\">\n",
       "  <thead>\n",
       "    <tr style=\"text-align: right;\">\n",
       "      <th>sex</th>\n",
       "      <th>F</th>\n",
       "      <th>M</th>\n",
       "    </tr>\n",
       "    <tr>\n",
       "      <th>sport</th>\n",
       "      <th></th>\n",
       "      <th></th>\n",
       "    </tr>\n",
       "  </thead>\n",
       "  <tbody>\n",
       "    <tr>\n",
       "      <th>Baseball</th>\n",
       "      <td>NaN</td>\n",
       "      <td>590.0</td>\n",
       "    </tr>\n",
       "    <tr>\n",
       "      <th>Basketball</th>\n",
       "      <td>750.0</td>\n",
       "      <td>1507.0</td>\n",
       "    </tr>\n",
       "    <tr>\n",
       "      <th>Football</th>\n",
       "      <td>614.0</td>\n",
       "      <td>2741.0</td>\n",
       "    </tr>\n",
       "    <tr>\n",
       "      <th>Volleyball</th>\n",
       "      <td>936.0</td>\n",
       "      <td>1100.0</td>\n",
       "    </tr>\n",
       "  </tbody>\n",
       "</table>\n",
       "</div>"
      ],
      "text/plain": [
       "sex             F       M\n",
       "sport                    \n",
       "Baseball      NaN   590.0\n",
       "Basketball  750.0  1507.0\n",
       "Football    614.0  2741.0\n",
       "Volleyball  936.0  1100.0"
      ]
     },
     "execution_count": 23,
     "metadata": {},
     "output_type": "execute_result"
    }
   ],
   "source": [
    "# Vamos a convertir el arreglo en dataframe y la variable genéro la vamos a convertir\n",
    "# en columnas... esto se hace con la función unstack.... esta operación se conoce como\n",
    "# pivotear, convertir un df de largo a ancho, gather/spread...\n",
    "\n",
    "value_counts = value_counts.unstack(1)\n",
    "\n",
    "value_counts"
   ]
  },
  {
   "cell_type": "code",
   "execution_count": 25,
   "metadata": {},
   "outputs": [],
   "source": [
    "# Convertimos los NAs en 0s\n",
    "value_counts = value_counts.fillna(0)"
   ]
  },
  {
   "cell_type": "code",
   "execution_count": 26,
   "metadata": {},
   "outputs": [
    {
     "data": {
      "text/html": [
       "<div>\n",
       "<style scoped>\n",
       "    .dataframe tbody tr th:only-of-type {\n",
       "        vertical-align: middle;\n",
       "    }\n",
       "\n",
       "    .dataframe tbody tr th {\n",
       "        vertical-align: top;\n",
       "    }\n",
       "\n",
       "    .dataframe thead th {\n",
       "        text-align: right;\n",
       "    }\n",
       "</style>\n",
       "<table border=\"1\" class=\"dataframe\">\n",
       "  <thead>\n",
       "    <tr style=\"text-align: right;\">\n",
       "      <th>sex</th>\n",
       "      <th>F</th>\n",
       "      <th>M</th>\n",
       "    </tr>\n",
       "    <tr>\n",
       "      <th>sport</th>\n",
       "      <th></th>\n",
       "      <th></th>\n",
       "    </tr>\n",
       "  </thead>\n",
       "  <tbody>\n",
       "    <tr>\n",
       "      <th>Baseball</th>\n",
       "      <td>0.0</td>\n",
       "      <td>590.0</td>\n",
       "    </tr>\n",
       "    <tr>\n",
       "      <th>Basketball</th>\n",
       "      <td>750.0</td>\n",
       "      <td>1507.0</td>\n",
       "    </tr>\n",
       "    <tr>\n",
       "      <th>Football</th>\n",
       "      <td>614.0</td>\n",
       "      <td>2741.0</td>\n",
       "    </tr>\n",
       "    <tr>\n",
       "      <th>Volleyball</th>\n",
       "      <td>936.0</td>\n",
       "      <td>1100.0</td>\n",
       "    </tr>\n",
       "  </tbody>\n",
       "</table>\n",
       "</div>"
      ],
      "text/plain": [
       "sex             F       M\n",
       "sport                    \n",
       "Baseball      0.0   590.0\n",
       "Basketball  750.0  1507.0\n",
       "Football    614.0  2741.0\n",
       "Volleyball  936.0  1100.0"
      ]
     },
     "execution_count": 26,
     "metadata": {},
     "output_type": "execute_result"
    }
   ],
   "source": [
    "value_counts"
   ]
  },
  {
   "cell_type": "code",
   "execution_count": 29,
   "metadata": {},
   "outputs": [
    {
     "data": {
      "image/png": "[encoded data removed]",
      "text/plain": [
       "<Figure size 360x360 with 1 Axes>"
      ]
     },
     "metadata": {},
     "output_type": "display_data"
    }
   ],
   "source": [
    "plt.style.use('seaborn')\n",
    "\n",
    "fig = plt.figure(figsize=(5, 5))\n",
    "ax = fig.add_subplot() # primero defino unos ejes o canvas que tendrán en común\n",
    "\n",
    "# La función que nos permite construir las gráficas apiladas es bar\n",
    "\n",
    "plt1 = ax.bar(value_counts.index, value_counts['M'], label='M')\n",
    "plt2 = ax.bar(value_counts.index, value_counts['F'], bottom=value_counts['M'])\n",
    "# esta instrucción es muy importante para que los apile\n",
    "\n",
    "ax.set_ylabel('count') # definimos que esta es la variable y eje de conteo\n",
    "\n",
    "ax.set_title('Conteo de frecuencia de 4 deportes Olímpicos', fontsize=13, pad=15);\n",
    "plt.legend((plt1[0], plt2[0]), ('Men', 'Women'));\n",
    "ax.set_ylim(0, 4500);"
   ]
  },
  {
   "cell_type": "markdown",
   "metadata": {},
   "source": [
    "Con esta gráfica se vuelve muy evidente la disparidad que existe en casi todos estos deportes. Excepto por volleyball, donde la participación de hombres y mujeres es similar, en los demás deportes la participación es femenina es mucho menor o incluso nula."
   ]
  }
 ],
 "metadata": {
  "kernelspec": {
   "display_name": "Python 3",
   "language": "python",
   "name": "python3"
  },
  "language_info": {
   "codemirror_mode": {
    "name": "ipython",
    "version": 3
   },
   "file_extension": ".py",
   "mimetype": "text/x-python",
   "name": "python",
   "nbconvert_exporter": "python",
   "pygments_lexer": "ipython3",
   "version": "3.9.1"
  }
 },
 "nbformat": 4,
 "nbformat_minor": 4
}
